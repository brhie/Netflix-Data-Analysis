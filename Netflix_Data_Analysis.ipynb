{
  "nbformat": 4,
  "nbformat_minor": 0,
  "metadata": {
    "colab": {
      "provenance": [],
      "authorship_tag": "ABX9TyOxbDMl8qsIUH8biOif/Nbr",
      "include_colab_link": true
    },
    "kernelspec": {
      "name": "python3",
      "display_name": "Python 3"
    },
    "language_info": {
      "name": "python"
    }
  },
  "cells": [
    {
      "cell_type": "markdown",
      "metadata": {
        "id": "view-in-github",
        "colab_type": "text"
      },
      "source": [
        "<a href=\"https://colab.research.google.com/github/brhie/Netflix-Data-Analysis/blob/main/Netflix_Data_Analysis.ipynb\" target=\"_parent\"><img src=\"https://colab.research.google.com/assets/colab-badge.svg\" alt=\"Open In Colab\"/></a>"
      ]
    },
    {
      "cell_type": "markdown",
      "source": [
        "# Netflix Data Analysis!\n",
        "- The initial data is from Kaggle!\n",
        "- Practicing the basics of python data analysis\n"
      ],
      "metadata": {
        "id": "KGTg54reuuF5"
      }
    },
    {
      "cell_type": "markdown",
      "source": [
        "#### Prepare to use kaggle"
      ],
      "metadata": {
        "id": "yNOvdCB77Fuc"
      }
    },
    {
      "cell_type": "code",
      "execution_count": null,
      "metadata": {
        "id": "7qDCM16lutKh"
      },
      "outputs": [],
      "source": [
        "# Prepare the import data from Kaggle\n",
        "! pip3 install -q kaggle"
      ]
    },
    {
      "cell_type": "code",
      "source": [
        "from google.colab import files\n",
        "files.upload()"
      ],
      "metadata": {
        "colab": {
          "base_uri": "https://localhost:8080/",
          "height": 90
        },
        "id": "UVnF4WX7xF5o",
        "outputId": "e9ecea71-5348-4ede-88a3-4733fdf6094d"
      },
      "execution_count": null,
      "outputs": [
        {
          "output_type": "display_data",
          "data": {
            "text/plain": [
              "<IPython.core.display.HTML object>"
            ],
            "text/html": [
              "\n",
              "     <input type=\"file\" id=\"files-2f48649e-8058-4e26-9b44-78f77f743db1\" name=\"files[]\" multiple disabled\n",
              "        style=\"border:none\" />\n",
              "     <output id=\"result-2f48649e-8058-4e26-9b44-78f77f743db1\">\n",
              "      Upload widget is only available when the cell has been executed in the\n",
              "      current browser session. Please rerun this cell to enable.\n",
              "      </output>\n",
              "      <script>// Copyright 2017 Google LLC\n",
              "//\n",
              "// Licensed under the Apache License, Version 2.0 (the \"License\");\n",
              "// you may not use this file except in compliance with the License.\n",
              "// You may obtain a copy of the License at\n",
              "//\n",
              "//      http://www.apache.org/licenses/LICENSE-2.0\n",
              "//\n",
              "// Unless required by applicable law or agreed to in writing, software\n",
              "// distributed under the License is distributed on an \"AS IS\" BASIS,\n",
              "// WITHOUT WARRANTIES OR CONDITIONS OF ANY KIND, either express or implied.\n",
              "// See the License for the specific language governing permissions and\n",
              "// limitations under the License.\n",
              "\n",
              "/**\n",
              " * @fileoverview Helpers for google.colab Python module.\n",
              " */\n",
              "(function(scope) {\n",
              "function span(text, styleAttributes = {}) {\n",
              "  const element = document.createElement('span');\n",
              "  element.textContent = text;\n",
              "  for (const key of Object.keys(styleAttributes)) {\n",
              "    element.style[key] = styleAttributes[key];\n",
              "  }\n",
              "  return element;\n",
              "}\n",
              "\n",
              "// Max number of bytes which will be uploaded at a time.\n",
              "const MAX_PAYLOAD_SIZE = 100 * 1024;\n",
              "\n",
              "function _uploadFiles(inputId, outputId) {\n",
              "  const steps = uploadFilesStep(inputId, outputId);\n",
              "  const outputElement = document.getElementById(outputId);\n",
              "  // Cache steps on the outputElement to make it available for the next call\n",
              "  // to uploadFilesContinue from Python.\n",
              "  outputElement.steps = steps;\n",
              "\n",
              "  return _uploadFilesContinue(outputId);\n",
              "}\n",
              "\n",
              "// This is roughly an async generator (not supported in the browser yet),\n",
              "// where there are multiple asynchronous steps and the Python side is going\n",
              "// to poll for completion of each step.\n",
              "// This uses a Promise to block the python side on completion of each step,\n",
              "// then passes the result of the previous step as the input to the next step.\n",
              "function _uploadFilesContinue(outputId) {\n",
              "  const outputElement = document.getElementById(outputId);\n",
              "  const steps = outputElement.steps;\n",
              "\n",
              "  const next = steps.next(outputElement.lastPromiseValue);\n",
              "  return Promise.resolve(next.value.promise).then((value) => {\n",
              "    // Cache the last promise value to make it available to the next\n",
              "    // step of the generator.\n",
              "    outputElement.lastPromiseValue = value;\n",
              "    return next.value.response;\n",
              "  });\n",
              "}\n",
              "\n",
              "/**\n",
              " * Generator function which is called between each async step of the upload\n",
              " * process.\n",
              " * @param {string} inputId Element ID of the input file picker element.\n",
              " * @param {string} outputId Element ID of the output display.\n",
              " * @return {!Iterable<!Object>} Iterable of next steps.\n",
              " */\n",
              "function* uploadFilesStep(inputId, outputId) {\n",
              "  const inputElement = document.getElementById(inputId);\n",
              "  inputElement.disabled = false;\n",
              "\n",
              "  const outputElement = document.getElementById(outputId);\n",
              "  outputElement.innerHTML = '';\n",
              "\n",
              "  const pickedPromise = new Promise((resolve) => {\n",
              "    inputElement.addEventListener('change', (e) => {\n",
              "      resolve(e.target.files);\n",
              "    });\n",
              "  });\n",
              "\n",
              "  const cancel = document.createElement('button');\n",
              "  inputElement.parentElement.appendChild(cancel);\n",
              "  cancel.textContent = 'Cancel upload';\n",
              "  const cancelPromise = new Promise((resolve) => {\n",
              "    cancel.onclick = () => {\n",
              "      resolve(null);\n",
              "    };\n",
              "  });\n",
              "\n",
              "  // Wait for the user to pick the files.\n",
              "  const files = yield {\n",
              "    promise: Promise.race([pickedPromise, cancelPromise]),\n",
              "    response: {\n",
              "      action: 'starting',\n",
              "    }\n",
              "  };\n",
              "\n",
              "  cancel.remove();\n",
              "\n",
              "  // Disable the input element since further picks are not allowed.\n",
              "  inputElement.disabled = true;\n",
              "\n",
              "  if (!files) {\n",
              "    return {\n",
              "      response: {\n",
              "        action: 'complete',\n",
              "      }\n",
              "    };\n",
              "  }\n",
              "\n",
              "  for (const file of files) {\n",
              "    const li = document.createElement('li');\n",
              "    li.append(span(file.name, {fontWeight: 'bold'}));\n",
              "    li.append(span(\n",
              "        `(${file.type || 'n/a'}) - ${file.size} bytes, ` +\n",
              "        `last modified: ${\n",
              "            file.lastModifiedDate ? file.lastModifiedDate.toLocaleDateString() :\n",
              "                                    'n/a'} - `));\n",
              "    const percent = span('0% done');\n",
              "    li.appendChild(percent);\n",
              "\n",
              "    outputElement.appendChild(li);\n",
              "\n",
              "    const fileDataPromise = new Promise((resolve) => {\n",
              "      const reader = new FileReader();\n",
              "      reader.onload = (e) => {\n",
              "        resolve(e.target.result);\n",
              "      };\n",
              "      reader.readAsArrayBuffer(file);\n",
              "    });\n",
              "    // Wait for the data to be ready.\n",
              "    let fileData = yield {\n",
              "      promise: fileDataPromise,\n",
              "      response: {\n",
              "        action: 'continue',\n",
              "      }\n",
              "    };\n",
              "\n",
              "    // Use a chunked sending to avoid message size limits. See b/62115660.\n",
              "    let position = 0;\n",
              "    do {\n",
              "      const length = Math.min(fileData.byteLength - position, MAX_PAYLOAD_SIZE);\n",
              "      const chunk = new Uint8Array(fileData, position, length);\n",
              "      position += length;\n",
              "\n",
              "      const base64 = btoa(String.fromCharCode.apply(null, chunk));\n",
              "      yield {\n",
              "        response: {\n",
              "          action: 'append',\n",
              "          file: file.name,\n",
              "          data: base64,\n",
              "        },\n",
              "      };\n",
              "\n",
              "      let percentDone = fileData.byteLength === 0 ?\n",
              "          100 :\n",
              "          Math.round((position / fileData.byteLength) * 100);\n",
              "      percent.textContent = `${percentDone}% done`;\n",
              "\n",
              "    } while (position < fileData.byteLength);\n",
              "  }\n",
              "\n",
              "  // All done.\n",
              "  yield {\n",
              "    response: {\n",
              "      action: 'complete',\n",
              "    }\n",
              "  };\n",
              "}\n",
              "\n",
              "scope.google = scope.google || {};\n",
              "scope.google.colab = scope.google.colab || {};\n",
              "scope.google.colab._files = {\n",
              "  _uploadFiles,\n",
              "  _uploadFilesContinue,\n",
              "};\n",
              "})(self);\n",
              "</script> "
            ]
          },
          "metadata": {}
        },
        {
          "output_type": "stream",
          "name": "stdout",
          "text": [
            "Saving kaggle.json to kaggle (1).json\n"
          ]
        },
        {
          "output_type": "execute_result",
          "data": {
            "text/plain": [
              "{'kaggle (1).json': b'{\"username\":\"brianrhie\",\"key\":\"00c85733779ecc879d96e4332f77656f\"}'}"
            ]
          },
          "metadata": {},
          "execution_count": 244
        }
      ]
    },
    {
      "cell_type": "code",
      "source": [
        "! mkdir ~/.kaggle"
      ],
      "metadata": {
        "id": "xSdhM4v7xYEv",
        "colab": {
          "base_uri": "https://localhost:8080/"
        },
        "outputId": "2cafe0b7-ad81-4518-bd9a-d06b41a32388"
      },
      "execution_count": null,
      "outputs": [
        {
          "output_type": "stream",
          "name": "stdout",
          "text": [
            "mkdir: cannot create directory ‘/root/.kaggle’: File exists\n"
          ]
        }
      ]
    },
    {
      "cell_type": "code",
      "source": [
        "! cp kaggle.json ~/.kaggle/"
      ],
      "metadata": {
        "id": "aLWSya9gxetp"
      },
      "execution_count": null,
      "outputs": []
    },
    {
      "cell_type": "code",
      "source": [
        "! cp kaggle.json ~/.kaggle/"
      ],
      "metadata": {
        "id": "ABZLpJO0xiRy"
      },
      "execution_count": null,
      "outputs": []
    },
    {
      "cell_type": "code",
      "source": [
        "! chmod 600 ~/.kaggle/kaggle.json"
      ],
      "metadata": {
        "id": "I6Ap3GRlxlol"
      },
      "execution_count": null,
      "outputs": []
    },
    {
      "cell_type": "code",
      "source": [
        "! kaggle datasets list"
      ],
      "metadata": {
        "colab": {
          "base_uri": "https://localhost:8080/"
        },
        "collapsed": true,
        "id": "INh9ma99xqN0",
        "outputId": "d1cc802b-165d-4eb1-9314-b7ad22b5beb5"
      },
      "execution_count": null,
      "outputs": [
        {
          "output_type": "stream",
          "name": "stdout",
          "text": [
            "ref                                                         title                                               size  lastUpdated                 downloadCount  voteCount  usabilityRating  \n",
            "----------------------------------------------------------  --------------------------------------------  ----------  --------------------------  -------------  ---------  ---------------  \n",
            "khushikyad001/water-pollution-and-disease                   Water Pollution & Disease                         148486  2025-04-03 15:46:19.363000           1488         23  1.0              \n",
            "atharvasoundankar/chocolate-sales                           Chocolate Sales Data 📊🍫                            14473  2025-03-19 03:51:40.270000          20624        340  1.0              \n",
            "adilshamim8/student-depression-dataset                      Student Depression Dataset                        467020  2025-03-13 03:12:30.423000          11546        166  1.0              \n",
            "khushikyad001/air-pollution-in-china-2015-2025              Air Pollution in China (2015-2025)                453950  2025-03-31 06:21:35.103000           1365         24  1.0              \n",
            "atharvasoundankar/impact-of-ai-on-digital-media-2020-2025   🌍 Impact of AI on Digital Media (2020-2025)         5812  2025-04-03 09:12:25.070000           1802         40  1.0              \n",
            "ertugrulesol/online-retail-data                             Online Retail & E-Commerce Dataset                 26067  2025-03-20 08:54:53.623000           1526         31  1.0              \n",
            "keyushnisar/dating-app-behavior-dataset                     Dating App Behavior Dataset                      1527709  2025-04-05 08:35:05.420000            657         31  1.0              \n",
            "harishthakur995/global-spice-consumption                    Global spice consumption                          516891  2025-03-24 14:08:54.880000            915         24  0.9411765        \n",
            "amansingh0000000/flipkart-product-list                      Flipkart Product List                             259883  2025-04-05 14:23:10.770000            755         26  0.9411765        \n",
            "ak0212/average-daily-screen-time-for-children               Average Daily Screen Time for Children              1378  2025-03-24 03:52:51.137000           3384         52  1.0              \n",
            "abdulmalik1518/mobiles-dataset-2025                         Mobiles Dataset (2025)                             20314  2025-02-18 06:50:24.370000          22914        356  1.0              \n",
            "atharvasoundankar/global-cybersecurity-threats-2015-2024    🌐 Global Cybersecurity Threats (2015-2024)         48178  2025-03-16 04:23:13.343000           3802         71  1.0              \n",
            "kaverappa/amazon-best-seller-softwares                      Amazon best seller softwares                       87193  2025-03-14 16:34:43.980000           1462         29  0.9411765        \n",
            "sarahtaha/1025-pokemon                                      1025 Pokémon Stats                                 35237  2025-03-29 01:07:12.473000           1002         23  1.0              \n",
            "albertobircoci/historical-prices-of-major-natural-resource  Historical Prices of Major Natural Resource       266218  2025-04-02 04:54:54.640000            940         30  1.0              \n",
            "willianoliveiragibin/games-and-students                     Games and Students                                  5061  2025-03-19 22:20:00.723000           1948         37  1.0              \n",
            "juice0lover/users-vs-bots-classification                    Users vs bots classification                      112490  2025-03-30 13:38:07.167000            997         27  1.0              \n",
            "meleknur/global-internet-usage-by-country-2000-2023         Global Internet Usage by Country (2000-2023)       17617  2025-03-25 15:34:00.883000           1862         30  1.0              \n",
            "samayashar/stock-market-simulation-dataset                  Stock Market Simulation Dataset                    90192  2025-03-12 18:28:19.593000           1444         24  1.0              \n",
            "dansbecker/melbourne-housing-snapshot                       Melbourne Housing Snapshot                        461423  2018-06-05 12:52:24.087000         175954       1596  0.7058824        \n"
          ]
        }
      ]
    },
    {
      "cell_type": "code",
      "source": [
        "!kaggle datasets download shivamb/netflix-shows"
      ],
      "metadata": {
        "colab": {
          "base_uri": "https://localhost:8080/"
        },
        "id": "gEhzquz_xujy",
        "outputId": "145aeabd-c7b4-410a-f8d4-c155e7d1c667"
      },
      "execution_count": null,
      "outputs": [
        {
          "output_type": "stream",
          "name": "stdout",
          "text": [
            "Dataset URL: https://www.kaggle.com/datasets/shivamb/netflix-shows\n",
            "License(s): CC0-1.0\n",
            "netflix-shows.zip: Skipping, found more recently modified local copy (use --force to force download)\n"
          ]
        }
      ]
    },
    {
      "cell_type": "code",
      "source": [
        "! mkdir netflix"
      ],
      "metadata": {
        "id": "LFLlnsq9yBUe",
        "colab": {
          "base_uri": "https://localhost:8080/"
        },
        "outputId": "ad1367ff-ddf2-435b-b696-2c4c3d2418a6"
      },
      "execution_count": null,
      "outputs": [
        {
          "output_type": "stream",
          "name": "stdout",
          "text": [
            "mkdir: cannot create directory ‘netflix’: File exists\n"
          ]
        }
      ]
    },
    {
      "cell_type": "code",
      "source": [
        "! unzip netflix-shows.zip -d netflix"
      ],
      "metadata": {
        "colab": {
          "base_uri": "https://localhost:8080/"
        },
        "id": "cLOU318oyHKG",
        "outputId": "e8c53ac4-b31e-4943-d839-69e37779b5bc"
      },
      "execution_count": null,
      "outputs": [
        {
          "output_type": "stream",
          "name": "stdout",
          "text": [
            "Archive:  netflix-shows.zip\n",
            "replace netflix/netflix_titles.csv? [y]es, [n]o, [A]ll, [N]one, [r]ename: y\n",
            "  inflating: netflix/netflix_titles.csv  \n"
          ]
        }
      ]
    },
    {
      "cell_type": "code",
      "source": [],
      "metadata": {
        "id": "VZCHDdFA7OWj"
      },
      "execution_count": null,
      "outputs": []
    },
    {
      "cell_type": "markdown",
      "source": [
        "### What are the business questions we wish to answer with this project?\n",
        "\n",
        "\n",
        "1.   How many new shows and movies does netflix add each year?\n",
        "2.   What country produced the most content?\n",
        "3.   What are the the most common genres?\n",
        "4.   What's the average movie duration on Netflix?\n",
        "5.   Which directors have the most shows/movies?\n",
        "6.   Has content from certain countries increased or decreased over time?\n",
        "7. When is the best time of the year to release contents?\n",
        "\n",
        "### Steps to anaylising data\n",
        "\n",
        "\n",
        "1.   Load data\n",
        "2.   Clean data\n",
        "3.   EDA/Visualization\n",
        "4.   Conclusion and Extension\n",
        "\n"
      ],
      "metadata": {
        "id": "3LDXYdMzytNq"
      }
    },
    {
      "cell_type": "code",
      "source": [],
      "metadata": {
        "id": "cUCTtUUrnNio"
      },
      "execution_count": null,
      "outputs": []
    },
    {
      "cell_type": "markdown",
      "source": [
        "### Analysis"
      ],
      "metadata": {
        "id": "mA6ukvwk8TiK"
      }
    },
    {
      "cell_type": "code",
      "source": [
        "# Loading the data\n",
        "import pandas as pd\n",
        "import numpy as np\n",
        "import matplotlib.pyplot as plt\n",
        "\n",
        "netflix = pd.read_csv(\"./netflix/netflix_titles.csv\")\n",
        "netflix.head()"
      ],
      "metadata": {
        "colab": {
          "base_uri": "https://localhost:8080/",
          "height": 476
        },
        "id": "Mm_IL6zr8miU",
        "outputId": "1be5eb82-051d-4bc2-951f-5b17e00bd312"
      },
      "execution_count": null,
      "outputs": [
        {
          "output_type": "execute_result",
          "data": {
            "text/plain": [
              "  show_id     type                  title         director  \\\n",
              "0      s1    Movie   Dick Johnson Is Dead  Kirsten Johnson   \n",
              "1      s2  TV Show          Blood & Water              NaN   \n",
              "2      s3  TV Show              Ganglands  Julien Leclercq   \n",
              "3      s4  TV Show  Jailbirds New Orleans              NaN   \n",
              "4      s5  TV Show           Kota Factory              NaN   \n",
              "\n",
              "                                                cast        country  \\\n",
              "0                                                NaN  United States   \n",
              "1  Ama Qamata, Khosi Ngema, Gail Mabalane, Thaban...   South Africa   \n",
              "2  Sami Bouajila, Tracy Gotoas, Samuel Jouy, Nabi...            NaN   \n",
              "3                                                NaN            NaN   \n",
              "4  Mayur More, Jitendra Kumar, Ranjan Raj, Alam K...          India   \n",
              "\n",
              "           date_added  release_year rating   duration  \\\n",
              "0  September 25, 2021          2020  PG-13     90 min   \n",
              "1  September 24, 2021          2021  TV-MA  2 Seasons   \n",
              "2  September 24, 2021          2021  TV-MA   1 Season   \n",
              "3  September 24, 2021          2021  TV-MA   1 Season   \n",
              "4  September 24, 2021          2021  TV-MA  2 Seasons   \n",
              "\n",
              "                                           listed_in  \\\n",
              "0                                      Documentaries   \n",
              "1    International TV Shows, TV Dramas, TV Mysteries   \n",
              "2  Crime TV Shows, International TV Shows, TV Act...   \n",
              "3                             Docuseries, Reality TV   \n",
              "4  International TV Shows, Romantic TV Shows, TV ...   \n",
              "\n",
              "                                         description  \n",
              "0  As her father nears the end of his life, filmm...  \n",
              "1  After crossing paths at a party, a Cape Town t...  \n",
              "2  To protect his family from a powerful drug lor...  \n",
              "3  Feuds, flirtations and toilet talk go down amo...  \n",
              "4  In a city of coaching centers known to train I...  "
            ],
            "text/html": [
              "\n",
              "  <div id=\"df-1bc0d505-d189-45b1-923c-844ac9368e83\" class=\"colab-df-container\">\n",
              "    <div>\n",
              "<style scoped>\n",
              "    .dataframe tbody tr th:only-of-type {\n",
              "        vertical-align: middle;\n",
              "    }\n",
              "\n",
              "    .dataframe tbody tr th {\n",
              "        vertical-align: top;\n",
              "    }\n",
              "\n",
              "    .dataframe thead th {\n",
              "        text-align: right;\n",
              "    }\n",
              "</style>\n",
              "<table border=\"1\" class=\"dataframe\">\n",
              "  <thead>\n",
              "    <tr style=\"text-align: right;\">\n",
              "      <th></th>\n",
              "      <th>show_id</th>\n",
              "      <th>type</th>\n",
              "      <th>title</th>\n",
              "      <th>director</th>\n",
              "      <th>cast</th>\n",
              "      <th>country</th>\n",
              "      <th>date_added</th>\n",
              "      <th>release_year</th>\n",
              "      <th>rating</th>\n",
              "      <th>duration</th>\n",
              "      <th>listed_in</th>\n",
              "      <th>description</th>\n",
              "    </tr>\n",
              "  </thead>\n",
              "  <tbody>\n",
              "    <tr>\n",
              "      <th>0</th>\n",
              "      <td>s1</td>\n",
              "      <td>Movie</td>\n",
              "      <td>Dick Johnson Is Dead</td>\n",
              "      <td>Kirsten Johnson</td>\n",
              "      <td>NaN</td>\n",
              "      <td>United States</td>\n",
              "      <td>September 25, 2021</td>\n",
              "      <td>2020</td>\n",
              "      <td>PG-13</td>\n",
              "      <td>90 min</td>\n",
              "      <td>Documentaries</td>\n",
              "      <td>As her father nears the end of his life, filmm...</td>\n",
              "    </tr>\n",
              "    <tr>\n",
              "      <th>1</th>\n",
              "      <td>s2</td>\n",
              "      <td>TV Show</td>\n",
              "      <td>Blood &amp; Water</td>\n",
              "      <td>NaN</td>\n",
              "      <td>Ama Qamata, Khosi Ngema, Gail Mabalane, Thaban...</td>\n",
              "      <td>South Africa</td>\n",
              "      <td>September 24, 2021</td>\n",
              "      <td>2021</td>\n",
              "      <td>TV-MA</td>\n",
              "      <td>2 Seasons</td>\n",
              "      <td>International TV Shows, TV Dramas, TV Mysteries</td>\n",
              "      <td>After crossing paths at a party, a Cape Town t...</td>\n",
              "    </tr>\n",
              "    <tr>\n",
              "      <th>2</th>\n",
              "      <td>s3</td>\n",
              "      <td>TV Show</td>\n",
              "      <td>Ganglands</td>\n",
              "      <td>Julien Leclercq</td>\n",
              "      <td>Sami Bouajila, Tracy Gotoas, Samuel Jouy, Nabi...</td>\n",
              "      <td>NaN</td>\n",
              "      <td>September 24, 2021</td>\n",
              "      <td>2021</td>\n",
              "      <td>TV-MA</td>\n",
              "      <td>1 Season</td>\n",
              "      <td>Crime TV Shows, International TV Shows, TV Act...</td>\n",
              "      <td>To protect his family from a powerful drug lor...</td>\n",
              "    </tr>\n",
              "    <tr>\n",
              "      <th>3</th>\n",
              "      <td>s4</td>\n",
              "      <td>TV Show</td>\n",
              "      <td>Jailbirds New Orleans</td>\n",
              "      <td>NaN</td>\n",
              "      <td>NaN</td>\n",
              "      <td>NaN</td>\n",
              "      <td>September 24, 2021</td>\n",
              "      <td>2021</td>\n",
              "      <td>TV-MA</td>\n",
              "      <td>1 Season</td>\n",
              "      <td>Docuseries, Reality TV</td>\n",
              "      <td>Feuds, flirtations and toilet talk go down amo...</td>\n",
              "    </tr>\n",
              "    <tr>\n",
              "      <th>4</th>\n",
              "      <td>s5</td>\n",
              "      <td>TV Show</td>\n",
              "      <td>Kota Factory</td>\n",
              "      <td>NaN</td>\n",
              "      <td>Mayur More, Jitendra Kumar, Ranjan Raj, Alam K...</td>\n",
              "      <td>India</td>\n",
              "      <td>September 24, 2021</td>\n",
              "      <td>2021</td>\n",
              "      <td>TV-MA</td>\n",
              "      <td>2 Seasons</td>\n",
              "      <td>International TV Shows, Romantic TV Shows, TV ...</td>\n",
              "      <td>In a city of coaching centers known to train I...</td>\n",
              "    </tr>\n",
              "  </tbody>\n",
              "</table>\n",
              "</div>\n",
              "    <div class=\"colab-df-buttons\">\n",
              "\n",
              "  <div class=\"colab-df-container\">\n",
              "    <button class=\"colab-df-convert\" onclick=\"convertToInteractive('df-1bc0d505-d189-45b1-923c-844ac9368e83')\"\n",
              "            title=\"Convert this dataframe to an interactive table.\"\n",
              "            style=\"display:none;\">\n",
              "\n",
              "  <svg xmlns=\"http://www.w3.org/2000/svg\" height=\"24px\" viewBox=\"0 -960 960 960\">\n",
              "    <path d=\"M120-120v-720h720v720H120Zm60-500h600v-160H180v160Zm220 220h160v-160H400v160Zm0 220h160v-160H400v160ZM180-400h160v-160H180v160Zm440 0h160v-160H620v160ZM180-180h160v-160H180v160Zm440 0h160v-160H620v160Z\"/>\n",
              "  </svg>\n",
              "    </button>\n",
              "\n",
              "  <style>\n",
              "    .colab-df-container {\n",
              "      display:flex;\n",
              "      gap: 12px;\n",
              "    }\n",
              "\n",
              "    .colab-df-convert {\n",
              "      background-color: #E8F0FE;\n",
              "      border: none;\n",
              "      border-radius: 50%;\n",
              "      cursor: pointer;\n",
              "      display: none;\n",
              "      fill: #1967D2;\n",
              "      height: 32px;\n",
              "      padding: 0 0 0 0;\n",
              "      width: 32px;\n",
              "    }\n",
              "\n",
              "    .colab-df-convert:hover {\n",
              "      background-color: #E2EBFA;\n",
              "      box-shadow: 0px 1px 2px rgba(60, 64, 67, 0.3), 0px 1px 3px 1px rgba(60, 64, 67, 0.15);\n",
              "      fill: #174EA6;\n",
              "    }\n",
              "\n",
              "    .colab-df-buttons div {\n",
              "      margin-bottom: 4px;\n",
              "    }\n",
              "\n",
              "    [theme=dark] .colab-df-convert {\n",
              "      background-color: #3B4455;\n",
              "      fill: #D2E3FC;\n",
              "    }\n",
              "\n",
              "    [theme=dark] .colab-df-convert:hover {\n",
              "      background-color: #434B5C;\n",
              "      box-shadow: 0px 1px 3px 1px rgba(0, 0, 0, 0.15);\n",
              "      filter: drop-shadow(0px 1px 2px rgba(0, 0, 0, 0.3));\n",
              "      fill: #FFFFFF;\n",
              "    }\n",
              "  </style>\n",
              "\n",
              "    <script>\n",
              "      const buttonEl =\n",
              "        document.querySelector('#df-1bc0d505-d189-45b1-923c-844ac9368e83 button.colab-df-convert');\n",
              "      buttonEl.style.display =\n",
              "        google.colab.kernel.accessAllowed ? 'block' : 'none';\n",
              "\n",
              "      async function convertToInteractive(key) {\n",
              "        const element = document.querySelector('#df-1bc0d505-d189-45b1-923c-844ac9368e83');\n",
              "        const dataTable =\n",
              "          await google.colab.kernel.invokeFunction('convertToInteractive',\n",
              "                                                    [key], {});\n",
              "        if (!dataTable) return;\n",
              "\n",
              "        const docLinkHtml = 'Like what you see? Visit the ' +\n",
              "          '<a target=\"_blank\" href=https://colab.research.google.com/notebooks/data_table.ipynb>data table notebook</a>'\n",
              "          + ' to learn more about interactive tables.';\n",
              "        element.innerHTML = '';\n",
              "        dataTable['output_type'] = 'display_data';\n",
              "        await google.colab.output.renderOutput(dataTable, element);\n",
              "        const docLink = document.createElement('div');\n",
              "        docLink.innerHTML = docLinkHtml;\n",
              "        element.appendChild(docLink);\n",
              "      }\n",
              "    </script>\n",
              "  </div>\n",
              "\n",
              "\n",
              "<div id=\"df-93f63778-ccd1-4c1b-912f-2427c312b74d\">\n",
              "  <button class=\"colab-df-quickchart\" onclick=\"quickchart('df-93f63778-ccd1-4c1b-912f-2427c312b74d')\"\n",
              "            title=\"Suggest charts\"\n",
              "            style=\"display:none;\">\n",
              "\n",
              "<svg xmlns=\"http://www.w3.org/2000/svg\" height=\"24px\"viewBox=\"0 0 24 24\"\n",
              "     width=\"24px\">\n",
              "    <g>\n",
              "        <path d=\"M19 3H5c-1.1 0-2 .9-2 2v14c0 1.1.9 2 2 2h14c1.1 0 2-.9 2-2V5c0-1.1-.9-2-2-2zM9 17H7v-7h2v7zm4 0h-2V7h2v10zm4 0h-2v-4h2v4z\"/>\n",
              "    </g>\n",
              "</svg>\n",
              "  </button>\n",
              "\n",
              "<style>\n",
              "  .colab-df-quickchart {\n",
              "      --bg-color: #E8F0FE;\n",
              "      --fill-color: #1967D2;\n",
              "      --hover-bg-color: #E2EBFA;\n",
              "      --hover-fill-color: #174EA6;\n",
              "      --disabled-fill-color: #AAA;\n",
              "      --disabled-bg-color: #DDD;\n",
              "  }\n",
              "\n",
              "  [theme=dark] .colab-df-quickchart {\n",
              "      --bg-color: #3B4455;\n",
              "      --fill-color: #D2E3FC;\n",
              "      --hover-bg-color: #434B5C;\n",
              "      --hover-fill-color: #FFFFFF;\n",
              "      --disabled-bg-color: #3B4455;\n",
              "      --disabled-fill-color: #666;\n",
              "  }\n",
              "\n",
              "  .colab-df-quickchart {\n",
              "    background-color: var(--bg-color);\n",
              "    border: none;\n",
              "    border-radius: 50%;\n",
              "    cursor: pointer;\n",
              "    display: none;\n",
              "    fill: var(--fill-color);\n",
              "    height: 32px;\n",
              "    padding: 0;\n",
              "    width: 32px;\n",
              "  }\n",
              "\n",
              "  .colab-df-quickchart:hover {\n",
              "    background-color: var(--hover-bg-color);\n",
              "    box-shadow: 0 1px 2px rgba(60, 64, 67, 0.3), 0 1px 3px 1px rgba(60, 64, 67, 0.15);\n",
              "    fill: var(--button-hover-fill-color);\n",
              "  }\n",
              "\n",
              "  .colab-df-quickchart-complete:disabled,\n",
              "  .colab-df-quickchart-complete:disabled:hover {\n",
              "    background-color: var(--disabled-bg-color);\n",
              "    fill: var(--disabled-fill-color);\n",
              "    box-shadow: none;\n",
              "  }\n",
              "\n",
              "  .colab-df-spinner {\n",
              "    border: 2px solid var(--fill-color);\n",
              "    border-color: transparent;\n",
              "    border-bottom-color: var(--fill-color);\n",
              "    animation:\n",
              "      spin 1s steps(1) infinite;\n",
              "  }\n",
              "\n",
              "  @keyframes spin {\n",
              "    0% {\n",
              "      border-color: transparent;\n",
              "      border-bottom-color: var(--fill-color);\n",
              "      border-left-color: var(--fill-color);\n",
              "    }\n",
              "    20% {\n",
              "      border-color: transparent;\n",
              "      border-left-color: var(--fill-color);\n",
              "      border-top-color: var(--fill-color);\n",
              "    }\n",
              "    30% {\n",
              "      border-color: transparent;\n",
              "      border-left-color: var(--fill-color);\n",
              "      border-top-color: var(--fill-color);\n",
              "      border-right-color: var(--fill-color);\n",
              "    }\n",
              "    40% {\n",
              "      border-color: transparent;\n",
              "      border-right-color: var(--fill-color);\n",
              "      border-top-color: var(--fill-color);\n",
              "    }\n",
              "    60% {\n",
              "      border-color: transparent;\n",
              "      border-right-color: var(--fill-color);\n",
              "    }\n",
              "    80% {\n",
              "      border-color: transparent;\n",
              "      border-right-color: var(--fill-color);\n",
              "      border-bottom-color: var(--fill-color);\n",
              "    }\n",
              "    90% {\n",
              "      border-color: transparent;\n",
              "      border-bottom-color: var(--fill-color);\n",
              "    }\n",
              "  }\n",
              "</style>\n",
              "\n",
              "  <script>\n",
              "    async function quickchart(key) {\n",
              "      const quickchartButtonEl =\n",
              "        document.querySelector('#' + key + ' button');\n",
              "      quickchartButtonEl.disabled = true;  // To prevent multiple clicks.\n",
              "      quickchartButtonEl.classList.add('colab-df-spinner');\n",
              "      try {\n",
              "        const charts = await google.colab.kernel.invokeFunction(\n",
              "            'suggestCharts', [key], {});\n",
              "      } catch (error) {\n",
              "        console.error('Error during call to suggestCharts:', error);\n",
              "      }\n",
              "      quickchartButtonEl.classList.remove('colab-df-spinner');\n",
              "      quickchartButtonEl.classList.add('colab-df-quickchart-complete');\n",
              "    }\n",
              "    (() => {\n",
              "      let quickchartButtonEl =\n",
              "        document.querySelector('#df-93f63778-ccd1-4c1b-912f-2427c312b74d button');\n",
              "      quickchartButtonEl.style.display =\n",
              "        google.colab.kernel.accessAllowed ? 'block' : 'none';\n",
              "    })();\n",
              "  </script>\n",
              "</div>\n",
              "\n",
              "    </div>\n",
              "  </div>\n"
            ],
            "application/vnd.google.colaboratory.intrinsic+json": {
              "type": "dataframe",
              "variable_name": "netflix",
              "summary": "{\n  \"name\": \"netflix\",\n  \"rows\": 8807,\n  \"fields\": [\n    {\n      \"column\": \"show_id\",\n      \"properties\": {\n        \"dtype\": \"string\",\n        \"num_unique_values\": 8807,\n        \"samples\": [\n          \"s4971\",\n          \"s3363\",\n          \"s5495\"\n        ],\n        \"semantic_type\": \"\",\n        \"description\": \"\"\n      }\n    },\n    {\n      \"column\": \"type\",\n      \"properties\": {\n        \"dtype\": \"category\",\n        \"num_unique_values\": 2,\n        \"samples\": [\n          \"TV Show\",\n          \"Movie\"\n        ],\n        \"semantic_type\": \"\",\n        \"description\": \"\"\n      }\n    },\n    {\n      \"column\": \"title\",\n      \"properties\": {\n        \"dtype\": \"string\",\n        \"num_unique_values\": 8807,\n        \"samples\": [\n          \"Game Over, Man!\",\n          \"Arsenio Hall: Smart & Classy\"\n        ],\n        \"semantic_type\": \"\",\n        \"description\": \"\"\n      }\n    },\n    {\n      \"column\": \"director\",\n      \"properties\": {\n        \"dtype\": \"string\",\n        \"num_unique_values\": 4528,\n        \"samples\": [\n          \"Kanwal Sethi\",\n          \"R\\u00e9my Four, Julien War\"\n        ],\n        \"semantic_type\": \"\",\n        \"description\": \"\"\n      }\n    },\n    {\n      \"column\": \"cast\",\n      \"properties\": {\n        \"dtype\": \"string\",\n        \"num_unique_values\": 7692,\n        \"samples\": [\n          \"Tzi Ma, Christine Ko, Hong-Chi Lee, Hayden Szeto, Kunjue Li, Fiona Fu, James Saito, Joan Chen\",\n          \"Priyanshu Painyuli, Chandrachoor Rai, Shadab Kamal, Rajeev Siddhartha, Sheetal Thakur, Ninad Kamat, Swati Semwal, Eijaz Khan\"\n        ],\n        \"semantic_type\": \"\",\n        \"description\": \"\"\n      }\n    },\n    {\n      \"column\": \"country\",\n      \"properties\": {\n        \"dtype\": \"category\",\n        \"num_unique_values\": 748,\n        \"samples\": [\n          \"United States, United Kingdom, Denmark, Sweden\",\n          \"United Kingdom, Hong Kong\"\n        ],\n        \"semantic_type\": \"\",\n        \"description\": \"\"\n      }\n    },\n    {\n      \"column\": \"date_added\",\n      \"properties\": {\n        \"dtype\": \"category\",\n        \"num_unique_values\": 1767,\n        \"samples\": [\n          \"October 22, 2018\",\n          \"January 29, 2021\"\n        ],\n        \"semantic_type\": \"\",\n        \"description\": \"\"\n      }\n    },\n    {\n      \"column\": \"release_year\",\n      \"properties\": {\n        \"dtype\": \"number\",\n        \"std\": 8,\n        \"min\": 1925,\n        \"max\": 2021,\n        \"num_unique_values\": 74,\n        \"samples\": [\n          1996,\n          1969\n        ],\n        \"semantic_type\": \"\",\n        \"description\": \"\"\n      }\n    },\n    {\n      \"column\": \"rating\",\n      \"properties\": {\n        \"dtype\": \"category\",\n        \"num_unique_values\": 17,\n        \"samples\": [\n          \"PG-13\",\n          \"TV-MA\"\n        ],\n        \"semantic_type\": \"\",\n        \"description\": \"\"\n      }\n    },\n    {\n      \"column\": \"duration\",\n      \"properties\": {\n        \"dtype\": \"category\",\n        \"num_unique_values\": 220,\n        \"samples\": [\n          \"37 min\",\n          \"177 min\"\n        ],\n        \"semantic_type\": \"\",\n        \"description\": \"\"\n      }\n    },\n    {\n      \"column\": \"listed_in\",\n      \"properties\": {\n        \"dtype\": \"category\",\n        \"num_unique_values\": 514,\n        \"samples\": [\n          \"Crime TV Shows, International TV Shows, TV Mysteries\",\n          \"Children & Family Movies, Classic Movies, Dramas\"\n        ],\n        \"semantic_type\": \"\",\n        \"description\": \"\"\n      }\n    },\n    {\n      \"column\": \"description\",\n      \"properties\": {\n        \"dtype\": \"string\",\n        \"num_unique_values\": 8775,\n        \"samples\": [\n          \"A heedless teen drifter who falls for a small-town waitress makes the mistake of robbing a drug lord, putting his life and newfound love in jeopardy.\",\n          \"Twelve-year-old Calvin manages to join the navy and serves in the battle of Guadalcanal. But when his age is revealed, the boy is sent to the brig.\"\n        ],\n        \"semantic_type\": \"\",\n        \"description\": \"\"\n      }\n    }\n  ]\n}"
            }
          },
          "metadata": {},
          "execution_count": 275
        }
      ]
    },
    {
      "cell_type": "code",
      "source": [
        "netflix.info()"
      ],
      "metadata": {
        "colab": {
          "base_uri": "https://localhost:8080/"
        },
        "id": "XzgI7cmc9T21",
        "outputId": "ed47d05c-534a-48e7-80a2-5090cb3df58d"
      },
      "execution_count": null,
      "outputs": [
        {
          "output_type": "stream",
          "name": "stdout",
          "text": [
            "<class 'pandas.core.frame.DataFrame'>\n",
            "RangeIndex: 8807 entries, 0 to 8806\n",
            "Data columns (total 12 columns):\n",
            " #   Column        Non-Null Count  Dtype \n",
            "---  ------        --------------  ----- \n",
            " 0   show_id       8807 non-null   object\n",
            " 1   type          8807 non-null   object\n",
            " 2   title         8807 non-null   object\n",
            " 3   director      6173 non-null   object\n",
            " 4   cast          7982 non-null   object\n",
            " 5   country       7976 non-null   object\n",
            " 6   date_added    8797 non-null   object\n",
            " 7   release_year  8807 non-null   int64 \n",
            " 8   rating        8803 non-null   object\n",
            " 9   duration      8804 non-null   object\n",
            " 10  listed_in     8807 non-null   object\n",
            " 11  description   8807 non-null   object\n",
            "dtypes: int64(1), object(11)\n",
            "memory usage: 825.8+ KB\n"
          ]
        }
      ]
    },
    {
      "cell_type": "code",
      "source": [
        "netflix.isna().sum()"
      ],
      "metadata": {
        "colab": {
          "base_uri": "https://localhost:8080/",
          "height": 455
        },
        "id": "VTORSabc-Ey7",
        "outputId": "5e3c2c95-71e5-4580-8cfd-c2f08efec96d"
      },
      "execution_count": null,
      "outputs": [
        {
          "output_type": "execute_result",
          "data": {
            "text/plain": [
              "show_id            0\n",
              "type               0\n",
              "title              0\n",
              "director        2634\n",
              "cast             825\n",
              "country          831\n",
              "date_added        10\n",
              "release_year       0\n",
              "rating             4\n",
              "duration           3\n",
              "listed_in          0\n",
              "description        0\n",
              "dtype: int64"
            ],
            "text/html": [
              "<div>\n",
              "<style scoped>\n",
              "    .dataframe tbody tr th:only-of-type {\n",
              "        vertical-align: middle;\n",
              "    }\n",
              "\n",
              "    .dataframe tbody tr th {\n",
              "        vertical-align: top;\n",
              "    }\n",
              "\n",
              "    .dataframe thead th {\n",
              "        text-align: right;\n",
              "    }\n",
              "</style>\n",
              "<table border=\"1\" class=\"dataframe\">\n",
              "  <thead>\n",
              "    <tr style=\"text-align: right;\">\n",
              "      <th></th>\n",
              "      <th>0</th>\n",
              "    </tr>\n",
              "  </thead>\n",
              "  <tbody>\n",
              "    <tr>\n",
              "      <th>show_id</th>\n",
              "      <td>0</td>\n",
              "    </tr>\n",
              "    <tr>\n",
              "      <th>type</th>\n",
              "      <td>0</td>\n",
              "    </tr>\n",
              "    <tr>\n",
              "      <th>title</th>\n",
              "      <td>0</td>\n",
              "    </tr>\n",
              "    <tr>\n",
              "      <th>director</th>\n",
              "      <td>2634</td>\n",
              "    </tr>\n",
              "    <tr>\n",
              "      <th>cast</th>\n",
              "      <td>825</td>\n",
              "    </tr>\n",
              "    <tr>\n",
              "      <th>country</th>\n",
              "      <td>831</td>\n",
              "    </tr>\n",
              "    <tr>\n",
              "      <th>date_added</th>\n",
              "      <td>10</td>\n",
              "    </tr>\n",
              "    <tr>\n",
              "      <th>release_year</th>\n",
              "      <td>0</td>\n",
              "    </tr>\n",
              "    <tr>\n",
              "      <th>rating</th>\n",
              "      <td>4</td>\n",
              "    </tr>\n",
              "    <tr>\n",
              "      <th>duration</th>\n",
              "      <td>3</td>\n",
              "    </tr>\n",
              "    <tr>\n",
              "      <th>listed_in</th>\n",
              "      <td>0</td>\n",
              "    </tr>\n",
              "    <tr>\n",
              "      <th>description</th>\n",
              "      <td>0</td>\n",
              "    </tr>\n",
              "  </tbody>\n",
              "</table>\n",
              "</div><br><label><b>dtype:</b> int64</label>"
            ]
          },
          "metadata": {},
          "execution_count": 277
        }
      ]
    },
    {
      "cell_type": "code",
      "source": [
        "# Clean the data\n",
        "netflix[\"date_added\"] = pd.to_datetime(netflix[\"date_added\"], format='mixed')\n",
        "netflix[\"listed_in\"] = netflix[\"listed_in\"].str.split(\", \")\n",
        "netflix.head()"
      ],
      "metadata": {
        "colab": {
          "base_uri": "https://localhost:8080/",
          "height": 459
        },
        "id": "lRrrlVl6_OL_",
        "outputId": "cc6d4739-ad45-4b30-9c1c-0a0c9e8a9fd7"
      },
      "execution_count": null,
      "outputs": [
        {
          "output_type": "execute_result",
          "data": {
            "text/plain": [
              "  show_id     type                  title         director  \\\n",
              "0      s1    Movie   Dick Johnson Is Dead  Kirsten Johnson   \n",
              "1      s2  TV Show          Blood & Water              NaN   \n",
              "2      s3  TV Show              Ganglands  Julien Leclercq   \n",
              "3      s4  TV Show  Jailbirds New Orleans              NaN   \n",
              "4      s5  TV Show           Kota Factory              NaN   \n",
              "\n",
              "                                                cast        country  \\\n",
              "0                                                NaN  United States   \n",
              "1  Ama Qamata, Khosi Ngema, Gail Mabalane, Thaban...   South Africa   \n",
              "2  Sami Bouajila, Tracy Gotoas, Samuel Jouy, Nabi...            NaN   \n",
              "3                                                NaN            NaN   \n",
              "4  Mayur More, Jitendra Kumar, Ranjan Raj, Alam K...          India   \n",
              "\n",
              "  date_added  release_year rating   duration  \\\n",
              "0 2021-09-25          2020  PG-13     90 min   \n",
              "1 2021-09-24          2021  TV-MA  2 Seasons   \n",
              "2 2021-09-24          2021  TV-MA   1 Season   \n",
              "3 2021-09-24          2021  TV-MA   1 Season   \n",
              "4 2021-09-24          2021  TV-MA  2 Seasons   \n",
              "\n",
              "                                           listed_in  \\\n",
              "0                                    [Documentaries]   \n",
              "1  [International TV Shows, TV Dramas, TV Mysteries]   \n",
              "2  [Crime TV Shows, International TV Shows, TV Ac...   \n",
              "3                           [Docuseries, Reality TV]   \n",
              "4  [International TV Shows, Romantic TV Shows, TV...   \n",
              "\n",
              "                                         description  \n",
              "0  As her father nears the end of his life, filmm...  \n",
              "1  After crossing paths at a party, a Cape Town t...  \n",
              "2  To protect his family from a powerful drug lor...  \n",
              "3  Feuds, flirtations and toilet talk go down amo...  \n",
              "4  In a city of coaching centers known to train I...  "
            ],
            "text/html": [
              "\n",
              "  <div id=\"df-7fec0e4d-f173-4f5e-a788-f898b888f499\" class=\"colab-df-container\">\n",
              "    <div>\n",
              "<style scoped>\n",
              "    .dataframe tbody tr th:only-of-type {\n",
              "        vertical-align: middle;\n",
              "    }\n",
              "\n",
              "    .dataframe tbody tr th {\n",
              "        vertical-align: top;\n",
              "    }\n",
              "\n",
              "    .dataframe thead th {\n",
              "        text-align: right;\n",
              "    }\n",
              "</style>\n",
              "<table border=\"1\" class=\"dataframe\">\n",
              "  <thead>\n",
              "    <tr style=\"text-align: right;\">\n",
              "      <th></th>\n",
              "      <th>show_id</th>\n",
              "      <th>type</th>\n",
              "      <th>title</th>\n",
              "      <th>director</th>\n",
              "      <th>cast</th>\n",
              "      <th>country</th>\n",
              "      <th>date_added</th>\n",
              "      <th>release_year</th>\n",
              "      <th>rating</th>\n",
              "      <th>duration</th>\n",
              "      <th>listed_in</th>\n",
              "      <th>description</th>\n",
              "    </tr>\n",
              "  </thead>\n",
              "  <tbody>\n",
              "    <tr>\n",
              "      <th>0</th>\n",
              "      <td>s1</td>\n",
              "      <td>Movie</td>\n",
              "      <td>Dick Johnson Is Dead</td>\n",
              "      <td>Kirsten Johnson</td>\n",
              "      <td>NaN</td>\n",
              "      <td>United States</td>\n",
              "      <td>2021-09-25</td>\n",
              "      <td>2020</td>\n",
              "      <td>PG-13</td>\n",
              "      <td>90 min</td>\n",
              "      <td>[Documentaries]</td>\n",
              "      <td>As her father nears the end of his life, filmm...</td>\n",
              "    </tr>\n",
              "    <tr>\n",
              "      <th>1</th>\n",
              "      <td>s2</td>\n",
              "      <td>TV Show</td>\n",
              "      <td>Blood &amp; Water</td>\n",
              "      <td>NaN</td>\n",
              "      <td>Ama Qamata, Khosi Ngema, Gail Mabalane, Thaban...</td>\n",
              "      <td>South Africa</td>\n",
              "      <td>2021-09-24</td>\n",
              "      <td>2021</td>\n",
              "      <td>TV-MA</td>\n",
              "      <td>2 Seasons</td>\n",
              "      <td>[International TV Shows, TV Dramas, TV Mysteries]</td>\n",
              "      <td>After crossing paths at a party, a Cape Town t...</td>\n",
              "    </tr>\n",
              "    <tr>\n",
              "      <th>2</th>\n",
              "      <td>s3</td>\n",
              "      <td>TV Show</td>\n",
              "      <td>Ganglands</td>\n",
              "      <td>Julien Leclercq</td>\n",
              "      <td>Sami Bouajila, Tracy Gotoas, Samuel Jouy, Nabi...</td>\n",
              "      <td>NaN</td>\n",
              "      <td>2021-09-24</td>\n",
              "      <td>2021</td>\n",
              "      <td>TV-MA</td>\n",
              "      <td>1 Season</td>\n",
              "      <td>[Crime TV Shows, International TV Shows, TV Ac...</td>\n",
              "      <td>To protect his family from a powerful drug lor...</td>\n",
              "    </tr>\n",
              "    <tr>\n",
              "      <th>3</th>\n",
              "      <td>s4</td>\n",
              "      <td>TV Show</td>\n",
              "      <td>Jailbirds New Orleans</td>\n",
              "      <td>NaN</td>\n",
              "      <td>NaN</td>\n",
              "      <td>NaN</td>\n",
              "      <td>2021-09-24</td>\n",
              "      <td>2021</td>\n",
              "      <td>TV-MA</td>\n",
              "      <td>1 Season</td>\n",
              "      <td>[Docuseries, Reality TV]</td>\n",
              "      <td>Feuds, flirtations and toilet talk go down amo...</td>\n",
              "    </tr>\n",
              "    <tr>\n",
              "      <th>4</th>\n",
              "      <td>s5</td>\n",
              "      <td>TV Show</td>\n",
              "      <td>Kota Factory</td>\n",
              "      <td>NaN</td>\n",
              "      <td>Mayur More, Jitendra Kumar, Ranjan Raj, Alam K...</td>\n",
              "      <td>India</td>\n",
              "      <td>2021-09-24</td>\n",
              "      <td>2021</td>\n",
              "      <td>TV-MA</td>\n",
              "      <td>2 Seasons</td>\n",
              "      <td>[International TV Shows, Romantic TV Shows, TV...</td>\n",
              "      <td>In a city of coaching centers known to train I...</td>\n",
              "    </tr>\n",
              "  </tbody>\n",
              "</table>\n",
              "</div>\n",
              "    <div class=\"colab-df-buttons\">\n",
              "\n",
              "  <div class=\"colab-df-container\">\n",
              "    <button class=\"colab-df-convert\" onclick=\"convertToInteractive('df-7fec0e4d-f173-4f5e-a788-f898b888f499')\"\n",
              "            title=\"Convert this dataframe to an interactive table.\"\n",
              "            style=\"display:none;\">\n",
              "\n",
              "  <svg xmlns=\"http://www.w3.org/2000/svg\" height=\"24px\" viewBox=\"0 -960 960 960\">\n",
              "    <path d=\"M120-120v-720h720v720H120Zm60-500h600v-160H180v160Zm220 220h160v-160H400v160Zm0 220h160v-160H400v160ZM180-400h160v-160H180v160Zm440 0h160v-160H620v160ZM180-180h160v-160H180v160Zm440 0h160v-160H620v160Z\"/>\n",
              "  </svg>\n",
              "    </button>\n",
              "\n",
              "  <style>\n",
              "    .colab-df-container {\n",
              "      display:flex;\n",
              "      gap: 12px;\n",
              "    }\n",
              "\n",
              "    .colab-df-convert {\n",
              "      background-color: #E8F0FE;\n",
              "      border: none;\n",
              "      border-radius: 50%;\n",
              "      cursor: pointer;\n",
              "      display: none;\n",
              "      fill: #1967D2;\n",
              "      height: 32px;\n",
              "      padding: 0 0 0 0;\n",
              "      width: 32px;\n",
              "    }\n",
              "\n",
              "    .colab-df-convert:hover {\n",
              "      background-color: #E2EBFA;\n",
              "      box-shadow: 0px 1px 2px rgba(60, 64, 67, 0.3), 0px 1px 3px 1px rgba(60, 64, 67, 0.15);\n",
              "      fill: #174EA6;\n",
              "    }\n",
              "\n",
              "    .colab-df-buttons div {\n",
              "      margin-bottom: 4px;\n",
              "    }\n",
              "\n",
              "    [theme=dark] .colab-df-convert {\n",
              "      background-color: #3B4455;\n",
              "      fill: #D2E3FC;\n",
              "    }\n",
              "\n",
              "    [theme=dark] .colab-df-convert:hover {\n",
              "      background-color: #434B5C;\n",
              "      box-shadow: 0px 1px 3px 1px rgba(0, 0, 0, 0.15);\n",
              "      filter: drop-shadow(0px 1px 2px rgba(0, 0, 0, 0.3));\n",
              "      fill: #FFFFFF;\n",
              "    }\n",
              "  </style>\n",
              "\n",
              "    <script>\n",
              "      const buttonEl =\n",
              "        document.querySelector('#df-7fec0e4d-f173-4f5e-a788-f898b888f499 button.colab-df-convert');\n",
              "      buttonEl.style.display =\n",
              "        google.colab.kernel.accessAllowed ? 'block' : 'none';\n",
              "\n",
              "      async function convertToInteractive(key) {\n",
              "        const element = document.querySelector('#df-7fec0e4d-f173-4f5e-a788-f898b888f499');\n",
              "        const dataTable =\n",
              "          await google.colab.kernel.invokeFunction('convertToInteractive',\n",
              "                                                    [key], {});\n",
              "        if (!dataTable) return;\n",
              "\n",
              "        const docLinkHtml = 'Like what you see? Visit the ' +\n",
              "          '<a target=\"_blank\" href=https://colab.research.google.com/notebooks/data_table.ipynb>data table notebook</a>'\n",
              "          + ' to learn more about interactive tables.';\n",
              "        element.innerHTML = '';\n",
              "        dataTable['output_type'] = 'display_data';\n",
              "        await google.colab.output.renderOutput(dataTable, element);\n",
              "        const docLink = document.createElement('div');\n",
              "        docLink.innerHTML = docLinkHtml;\n",
              "        element.appendChild(docLink);\n",
              "      }\n",
              "    </script>\n",
              "  </div>\n",
              "\n",
              "\n",
              "<div id=\"df-6c3b3c01-fbf1-4f6f-8fba-54331498f31c\">\n",
              "  <button class=\"colab-df-quickchart\" onclick=\"quickchart('df-6c3b3c01-fbf1-4f6f-8fba-54331498f31c')\"\n",
              "            title=\"Suggest charts\"\n",
              "            style=\"display:none;\">\n",
              "\n",
              "<svg xmlns=\"http://www.w3.org/2000/svg\" height=\"24px\"viewBox=\"0 0 24 24\"\n",
              "     width=\"24px\">\n",
              "    <g>\n",
              "        <path d=\"M19 3H5c-1.1 0-2 .9-2 2v14c0 1.1.9 2 2 2h14c1.1 0 2-.9 2-2V5c0-1.1-.9-2-2-2zM9 17H7v-7h2v7zm4 0h-2V7h2v10zm4 0h-2v-4h2v4z\"/>\n",
              "    </g>\n",
              "</svg>\n",
              "  </button>\n",
              "\n",
              "<style>\n",
              "  .colab-df-quickchart {\n",
              "      --bg-color: #E8F0FE;\n",
              "      --fill-color: #1967D2;\n",
              "      --hover-bg-color: #E2EBFA;\n",
              "      --hover-fill-color: #174EA6;\n",
              "      --disabled-fill-color: #AAA;\n",
              "      --disabled-bg-color: #DDD;\n",
              "  }\n",
              "\n",
              "  [theme=dark] .colab-df-quickchart {\n",
              "      --bg-color: #3B4455;\n",
              "      --fill-color: #D2E3FC;\n",
              "      --hover-bg-color: #434B5C;\n",
              "      --hover-fill-color: #FFFFFF;\n",
              "      --disabled-bg-color: #3B4455;\n",
              "      --disabled-fill-color: #666;\n",
              "  }\n",
              "\n",
              "  .colab-df-quickchart {\n",
              "    background-color: var(--bg-color);\n",
              "    border: none;\n",
              "    border-radius: 50%;\n",
              "    cursor: pointer;\n",
              "    display: none;\n",
              "    fill: var(--fill-color);\n",
              "    height: 32px;\n",
              "    padding: 0;\n",
              "    width: 32px;\n",
              "  }\n",
              "\n",
              "  .colab-df-quickchart:hover {\n",
              "    background-color: var(--hover-bg-color);\n",
              "    box-shadow: 0 1px 2px rgba(60, 64, 67, 0.3), 0 1px 3px 1px rgba(60, 64, 67, 0.15);\n",
              "    fill: var(--button-hover-fill-color);\n",
              "  }\n",
              "\n",
              "  .colab-df-quickchart-complete:disabled,\n",
              "  .colab-df-quickchart-complete:disabled:hover {\n",
              "    background-color: var(--disabled-bg-color);\n",
              "    fill: var(--disabled-fill-color);\n",
              "    box-shadow: none;\n",
              "  }\n",
              "\n",
              "  .colab-df-spinner {\n",
              "    border: 2px solid var(--fill-color);\n",
              "    border-color: transparent;\n",
              "    border-bottom-color: var(--fill-color);\n",
              "    animation:\n",
              "      spin 1s steps(1) infinite;\n",
              "  }\n",
              "\n",
              "  @keyframes spin {\n",
              "    0% {\n",
              "      border-color: transparent;\n",
              "      border-bottom-color: var(--fill-color);\n",
              "      border-left-color: var(--fill-color);\n",
              "    }\n",
              "    20% {\n",
              "      border-color: transparent;\n",
              "      border-left-color: var(--fill-color);\n",
              "      border-top-color: var(--fill-color);\n",
              "    }\n",
              "    30% {\n",
              "      border-color: transparent;\n",
              "      border-left-color: var(--fill-color);\n",
              "      border-top-color: var(--fill-color);\n",
              "      border-right-color: var(--fill-color);\n",
              "    }\n",
              "    40% {\n",
              "      border-color: transparent;\n",
              "      border-right-color: var(--fill-color);\n",
              "      border-top-color: var(--fill-color);\n",
              "    }\n",
              "    60% {\n",
              "      border-color: transparent;\n",
              "      border-right-color: var(--fill-color);\n",
              "    }\n",
              "    80% {\n",
              "      border-color: transparent;\n",
              "      border-right-color: var(--fill-color);\n",
              "      border-bottom-color: var(--fill-color);\n",
              "    }\n",
              "    90% {\n",
              "      border-color: transparent;\n",
              "      border-bottom-color: var(--fill-color);\n",
              "    }\n",
              "  }\n",
              "</style>\n",
              "\n",
              "  <script>\n",
              "    async function quickchart(key) {\n",
              "      const quickchartButtonEl =\n",
              "        document.querySelector('#' + key + ' button');\n",
              "      quickchartButtonEl.disabled = true;  // To prevent multiple clicks.\n",
              "      quickchartButtonEl.classList.add('colab-df-spinner');\n",
              "      try {\n",
              "        const charts = await google.colab.kernel.invokeFunction(\n",
              "            'suggestCharts', [key], {});\n",
              "      } catch (error) {\n",
              "        console.error('Error during call to suggestCharts:', error);\n",
              "      }\n",
              "      quickchartButtonEl.classList.remove('colab-df-spinner');\n",
              "      quickchartButtonEl.classList.add('colab-df-quickchart-complete');\n",
              "    }\n",
              "    (() => {\n",
              "      let quickchartButtonEl =\n",
              "        document.querySelector('#df-6c3b3c01-fbf1-4f6f-8fba-54331498f31c button');\n",
              "      quickchartButtonEl.style.display =\n",
              "        google.colab.kernel.accessAllowed ? 'block' : 'none';\n",
              "    })();\n",
              "  </script>\n",
              "</div>\n",
              "\n",
              "    </div>\n",
              "  </div>\n"
            ],
            "application/vnd.google.colaboratory.intrinsic+json": {
              "type": "dataframe",
              "variable_name": "netflix",
              "summary": "{\n  \"name\": \"netflix\",\n  \"rows\": 8807,\n  \"fields\": [\n    {\n      \"column\": \"show_id\",\n      \"properties\": {\n        \"dtype\": \"string\",\n        \"num_unique_values\": 8807,\n        \"samples\": [\n          \"s4971\",\n          \"s3363\",\n          \"s5495\"\n        ],\n        \"semantic_type\": \"\",\n        \"description\": \"\"\n      }\n    },\n    {\n      \"column\": \"type\",\n      \"properties\": {\n        \"dtype\": \"category\",\n        \"num_unique_values\": 2,\n        \"samples\": [\n          \"TV Show\",\n          \"Movie\"\n        ],\n        \"semantic_type\": \"\",\n        \"description\": \"\"\n      }\n    },\n    {\n      \"column\": \"title\",\n      \"properties\": {\n        \"dtype\": \"string\",\n        \"num_unique_values\": 8807,\n        \"samples\": [\n          \"Game Over, Man!\",\n          \"Arsenio Hall: Smart & Classy\"\n        ],\n        \"semantic_type\": \"\",\n        \"description\": \"\"\n      }\n    },\n    {\n      \"column\": \"director\",\n      \"properties\": {\n        \"dtype\": \"string\",\n        \"num_unique_values\": 4528,\n        \"samples\": [\n          \"Kanwal Sethi\",\n          \"R\\u00e9my Four, Julien War\"\n        ],\n        \"semantic_type\": \"\",\n        \"description\": \"\"\n      }\n    },\n    {\n      \"column\": \"cast\",\n      \"properties\": {\n        \"dtype\": \"string\",\n        \"num_unique_values\": 7692,\n        \"samples\": [\n          \"Tzi Ma, Christine Ko, Hong-Chi Lee, Hayden Szeto, Kunjue Li, Fiona Fu, James Saito, Joan Chen\",\n          \"Priyanshu Painyuli, Chandrachoor Rai, Shadab Kamal, Rajeev Siddhartha, Sheetal Thakur, Ninad Kamat, Swati Semwal, Eijaz Khan\"\n        ],\n        \"semantic_type\": \"\",\n        \"description\": \"\"\n      }\n    },\n    {\n      \"column\": \"country\",\n      \"properties\": {\n        \"dtype\": \"category\",\n        \"num_unique_values\": 748,\n        \"samples\": [\n          \"United States, United Kingdom, Denmark, Sweden\",\n          \"United Kingdom, Hong Kong\"\n        ],\n        \"semantic_type\": \"\",\n        \"description\": \"\"\n      }\n    },\n    {\n      \"column\": \"date_added\",\n      \"properties\": {\n        \"dtype\": \"date\",\n        \"min\": \"2008-01-01 00:00:00\",\n        \"max\": \"2021-09-25 00:00:00\",\n        \"num_unique_values\": 1714,\n        \"samples\": [\n          \"2016-04-20 00:00:00\",\n          \"2017-01-10 00:00:00\"\n        ],\n        \"semantic_type\": \"\",\n        \"description\": \"\"\n      }\n    },\n    {\n      \"column\": \"release_year\",\n      \"properties\": {\n        \"dtype\": \"number\",\n        \"std\": 8,\n        \"min\": 1925,\n        \"max\": 2021,\n        \"num_unique_values\": 74,\n        \"samples\": [\n          1996,\n          1969\n        ],\n        \"semantic_type\": \"\",\n        \"description\": \"\"\n      }\n    },\n    {\n      \"column\": \"rating\",\n      \"properties\": {\n        \"dtype\": \"category\",\n        \"num_unique_values\": 17,\n        \"samples\": [\n          \"PG-13\",\n          \"TV-MA\"\n        ],\n        \"semantic_type\": \"\",\n        \"description\": \"\"\n      }\n    },\n    {\n      \"column\": \"duration\",\n      \"properties\": {\n        \"dtype\": \"category\",\n        \"num_unique_values\": 220,\n        \"samples\": [\n          \"37 min\",\n          \"177 min\"\n        ],\n        \"semantic_type\": \"\",\n        \"description\": \"\"\n      }\n    },\n    {\n      \"column\": \"listed_in\",\n      \"properties\": {\n        \"dtype\": \"object\",\n        \"semantic_type\": \"\",\n        \"description\": \"\"\n      }\n    },\n    {\n      \"column\": \"description\",\n      \"properties\": {\n        \"dtype\": \"string\",\n        \"num_unique_values\": 8775,\n        \"samples\": [\n          \"A heedless teen drifter who falls for a small-town waitress makes the mistake of robbing a drug lord, putting his life and newfound love in jeopardy.\",\n          \"Twelve-year-old Calvin manages to join the navy and serves in the battle of Guadalcanal. But when his age is revealed, the boy is sent to the brig.\"\n        ],\n        \"semantic_type\": \"\",\n        \"description\": \"\"\n      }\n    }\n  ]\n}"
            }
          },
          "metadata": {},
          "execution_count": 278
        }
      ]
    },
    {
      "cell_type": "code",
      "source": [
        "# How many movies did netflix create each year?\n",
        "netflix[\"year_added\"] = netflix[\"date_added\"].dt.year\n",
        "netflix.value_counts(\"year_added\").sort_index().plot(kind=\"line\", xlabel=\"Year\")\n",
        "plt.show()"
      ],
      "metadata": {
        "colab": {
          "base_uri": "https://localhost:8080/",
          "height": 449
        },
        "id": "DJ5j6nuKAAri",
        "outputId": "cfcb8958-3d20-495f-ca67-b47a8b144365"
      },
      "execution_count": null,
      "outputs": [
        {
          "output_type": "display_data",
          "data": {
            "text/plain": [
              "<Figure size 640x480 with 1 Axes>"
            ],
            "image/png": "[encoded data removed]"
          },
          "metadata": {}
        }
      ]
    },
    {
      "cell_type": "code",
      "source": [
        "# each day\n",
        "netflix[\"date_added\"].value_counts().sort_index().plot(kind=\"line\", xlabel=\"Year\")\n",
        "plt.show()"
      ],
      "metadata": {
        "colab": {
          "base_uri": "https://localhost:8080/",
          "height": 422
        },
        "id": "eVQDeZhrUuxp",
        "outputId": "8db5d9c2-4be0-45c8-f6ea-ef6e78d8b3bb"
      },
      "execution_count": null,
      "outputs": [
        {
          "output_type": "display_data",
          "data": {
            "text/plain": [
              "<Figure size 640x480 with 1 Axes>"
            ],
            "image/png": "[encoded data removed]"
          },
          "metadata": {}
        }
      ]
    },
    {
      "cell_type": "code",
      "source": [
        "len(netflix[netflix[\"year_added\"] == 2021])"
      ],
      "metadata": {
        "colab": {
          "base_uri": "https://localhost:8080/"
        },
        "id": "I7UCctzIBp55",
        "outputId": "92b7053d-6223-4682-8f9d-26814aff11ad"
      },
      "execution_count": null,
      "outputs": [
        {
          "output_type": "execute_result",
          "data": {
            "text/plain": [
              "1498"
            ]
          },
          "metadata": {},
          "execution_count": 281
        }
      ]
    },
    {
      "cell_type": "code",
      "source": [
        "# What Country Produced the most content?\n",
        "netflix.explode(\"country\").groupby(\"country\").size().sort_values(ascending=False).head()"
      ],
      "metadata": {
        "colab": {
          "base_uri": "https://localhost:8080/",
          "height": 269
        },
        "id": "0u4Wljy8Ce4a",
        "outputId": "f891abc5-f4f9-4130-f299-8fbc97fcff6b"
      },
      "execution_count": null,
      "outputs": [
        {
          "output_type": "execute_result",
          "data": {
            "text/plain": [
              "country\n",
              "United States     2818\n",
              "India              972\n",
              "United Kingdom     419\n",
              "Japan              245\n",
              "South Korea        199\n",
              "dtype: int64"
            ],
            "text/html": [
              "<div>\n",
              "<style scoped>\n",
              "    .dataframe tbody tr th:only-of-type {\n",
              "        vertical-align: middle;\n",
              "    }\n",
              "\n",
              "    .dataframe tbody tr th {\n",
              "        vertical-align: top;\n",
              "    }\n",
              "\n",
              "    .dataframe thead th {\n",
              "        text-align: right;\n",
              "    }\n",
              "</style>\n",
              "<table border=\"1\" class=\"dataframe\">\n",
              "  <thead>\n",
              "    <tr style=\"text-align: right;\">\n",
              "      <th></th>\n",
              "      <th>0</th>\n",
              "    </tr>\n",
              "    <tr>\n",
              "      <th>country</th>\n",
              "      <th></th>\n",
              "    </tr>\n",
              "  </thead>\n",
              "  <tbody>\n",
              "    <tr>\n",
              "      <th>United States</th>\n",
              "      <td>2818</td>\n",
              "    </tr>\n",
              "    <tr>\n",
              "      <th>India</th>\n",
              "      <td>972</td>\n",
              "    </tr>\n",
              "    <tr>\n",
              "      <th>United Kingdom</th>\n",
              "      <td>419</td>\n",
              "    </tr>\n",
              "    <tr>\n",
              "      <th>Japan</th>\n",
              "      <td>245</td>\n",
              "    </tr>\n",
              "    <tr>\n",
              "      <th>South Korea</th>\n",
              "      <td>199</td>\n",
              "    </tr>\n",
              "  </tbody>\n",
              "</table>\n",
              "</div><br><label><b>dtype:</b> int64</label>"
            ]
          },
          "metadata": {},
          "execution_count": 282
        }
      ]
    },
    {
      "cell_type": "code",
      "source": [
        "# What are the the most common genres?\n",
        "netflix[\"listed_in\"].explode().value_counts().head(10).plot(kind=\"bar\", xlabel=\"Genres\")\n",
        "plt.xticks(rotation=50)\n",
        "plt.show()"
      ],
      "metadata": {
        "colab": {
          "base_uri": "https://localhost:8080/",
          "height": 578
        },
        "id": "M9mfor0EDoNm",
        "outputId": "e73bd3b8-76f3-41c5-847d-8c37c68c01d6"
      },
      "execution_count": null,
      "outputs": [
        {
          "output_type": "display_data",
          "data": {
            "text/plain": [
              "<Figure size 640x480 with 1 Axes>"
            ],
            "image/png": "[encoded data removed]"
          },
          "metadata": {}
        }
      ]
    },
    {
      "cell_type": "code",
      "source": [
        "# What's the average movie duration on Netflix?\n",
        "netflix_movies = netflix[netflix[\"type\"] == \"Movie\"]\n",
        "netflix_movies[\"duration\"] = pd.to_numeric(netflix_movies[\"duration\"].fillna(netflix_movies[\"duration\"].mode()[0]).str.replace(\" min|in\", \"\", regex=True), errors='coerce')\n",
        "netflix_movies[\"duration\"].hist(bins=20)\n",
        "plt.xlabel(\"Duration\")\n",
        "plt.show()"
      ],
      "metadata": {
        "colab": {
          "base_uri": "https://localhost:8080/",
          "height": 577
        },
        "id": "X7hgUzP6IGgC",
        "outputId": "36c77979-9388-4754-da9a-4faf406ec22e"
      },
      "execution_count": null,
      "outputs": [
        {
          "output_type": "stream",
          "name": "stderr",
          "text": [
            "<ipython-input-298-731c7e039cb6>:3: SettingWithCopyWarning: \n",
            "A value is trying to be set on a copy of a slice from a DataFrame.\n",
            "Try using .loc[row_indexer,col_indexer] = value instead\n",
            "\n",
            "See the caveats in the documentation: https://pandas.pydata.org/pandas-docs/stable/user_guide/indexing.html#returning-a-view-versus-a-copy\n",
            "  netflix_movies[\"duration\"] = pd.to_numeric(netflix_movies[\"duration\"].fillna(netflix_movies[\"duration\"].mode()[0]).str.replace(\" min|in\", \"\", regex=True), errors='coerce')\n"
          ]
        },
        {
          "output_type": "display_data",
          "data": {
            "text/plain": [
              "<Figure size 640x480 with 1 Axes>"
            ],
            "image/png": "[encoded data removed]"
          },
          "metadata": {}
        }
      ]
    },
    {
      "cell_type": "code",
      "source": [
        "# Which directors have the most shows/movies?\n",
        "netflix.value_counts(\"director\")"
      ],
      "metadata": {
        "colab": {
          "base_uri": "https://localhost:8080/",
          "height": 484
        },
        "id": "ePOBMsnNKUUs",
        "outputId": "20942bf2-c534-4c64-a598-eff5a2555004"
      },
      "execution_count": null,
      "outputs": [
        {
          "output_type": "execute_result",
          "data": {
            "text/plain": [
              "director\n",
              "Rajiv Chilaka                                                 19\n",
              "Raúl Campos, Jan Suter                                        18\n",
              "Suhas Kadav                                                   16\n",
              "Marcus Raboy                                                  16\n",
              "Jay Karas                                                     14\n",
              "                                                              ..\n",
              "Álvaro Delgado-Aparicio L.                                     1\n",
              "Álvaro Brechner                                                1\n",
              "Zuko Nodada                                                    1\n",
              "Zsolt Pálfi                                                    1\n",
              "Zoya Akhtar, Karan Johar, Anurag Kashyap, Dibakar Banerjee     1\n",
              "Name: count, Length: 4528, dtype: int64"
            ],
            "text/html": [
              "<div>\n",
              "<style scoped>\n",
              "    .dataframe tbody tr th:only-of-type {\n",
              "        vertical-align: middle;\n",
              "    }\n",
              "\n",
              "    .dataframe tbody tr th {\n",
              "        vertical-align: top;\n",
              "    }\n",
              "\n",
              "    .dataframe thead th {\n",
              "        text-align: right;\n",
              "    }\n",
              "</style>\n",
              "<table border=\"1\" class=\"dataframe\">\n",
              "  <thead>\n",
              "    <tr style=\"text-align: right;\">\n",
              "      <th></th>\n",
              "      <th>count</th>\n",
              "    </tr>\n",
              "    <tr>\n",
              "      <th>director</th>\n",
              "      <th></th>\n",
              "    </tr>\n",
              "  </thead>\n",
              "  <tbody>\n",
              "    <tr>\n",
              "      <th>Rajiv Chilaka</th>\n",
              "      <td>19</td>\n",
              "    </tr>\n",
              "    <tr>\n",
              "      <th>Raúl Campos, Jan Suter</th>\n",
              "      <td>18</td>\n",
              "    </tr>\n",
              "    <tr>\n",
              "      <th>Suhas Kadav</th>\n",
              "      <td>16</td>\n",
              "    </tr>\n",
              "    <tr>\n",
              "      <th>Marcus Raboy</th>\n",
              "      <td>16</td>\n",
              "    </tr>\n",
              "    <tr>\n",
              "      <th>Jay Karas</th>\n",
              "      <td>14</td>\n",
              "    </tr>\n",
              "    <tr>\n",
              "      <th>...</th>\n",
              "      <td>...</td>\n",
              "    </tr>\n",
              "    <tr>\n",
              "      <th>Álvaro Delgado-Aparicio L.</th>\n",
              "      <td>1</td>\n",
              "    </tr>\n",
              "    <tr>\n",
              "      <th>Álvaro Brechner</th>\n",
              "      <td>1</td>\n",
              "    </tr>\n",
              "    <tr>\n",
              "      <th>Zuko Nodada</th>\n",
              "      <td>1</td>\n",
              "    </tr>\n",
              "    <tr>\n",
              "      <th>Zsolt Pálfi</th>\n",
              "      <td>1</td>\n",
              "    </tr>\n",
              "    <tr>\n",
              "      <th>Zoya Akhtar, Karan Johar, Anurag Kashyap, Dibakar Banerjee</th>\n",
              "      <td>1</td>\n",
              "    </tr>\n",
              "  </tbody>\n",
              "</table>\n",
              "<p>4528 rows × 1 columns</p>\n",
              "</div><br><label><b>dtype:</b> int64</label>"
            ]
          },
          "metadata": {},
          "execution_count": 285
        }
      ]
    },
    {
      "cell_type": "code",
      "source": [
        "# Has content number from certain countries increased or decreased over time?\n",
        "netflix[\"country\"] = netflix[\"country\"].str.split(\", \")\n",
        "netflix_exp = netflix.explode(\"country\").dropna(subset=[\"country\"])\n",
        "\n",
        "for country in netflix_exp[\"country\"].unique():\n",
        "  year_counts = netflix_exp[netflix_exp[\"country\"] == country].value_counts(\"year_added\")\n",
        "  # Use .get() with a default value to avoid KeyError\n",
        "  count2021 = year_counts.get(2021, 0)  # Default to 0 if 2021 is not found\n",
        "  count2020 = year_counts.get(2020, 0)  # Default to 0 if 2020 is not found\n",
        "  if count2021 == 0 and count2020 == 0:\n",
        "    pass\n",
        "  else:\n",
        "    if count2021 > count2020:\n",
        "      print(f\"{country} has increased from {count2020} to {count2021}\")\n",
        "    elif count2021 < count2020:\n",
        "      print(f\"{country} has decreased from {count2020} to {count2021}\")\n",
        "    else:\n",
        "      print(f\"{country} has stayed the same from {count2020} to {count2021}\")"
      ],
      "metadata": {
        "colab": {
          "base_uri": "https://localhost:8080/"
        },
        "collapsed": true,
        "id": "CJqgbxZ3Qvq1",
        "outputId": "7aa3748b-08c7-4442-8650-4a9620390ec5"
      },
      "execution_count": null,
      "outputs": [
        {
          "output_type": "stream",
          "name": "stdout",
          "text": [
            "United States has decreased from 828 to 627\n",
            "South Africa has decreased from 24 to 9\n",
            "India has decreased from 199 to 105\n",
            "Ghana has decreased from 2 to 1\n",
            "Burkina Faso has increased from 0 to 1\n",
            "United Kingdom has decreased from 146 to 119\n",
            "Germany has decreased from 58 to 40\n",
            "Ethiopia has increased from 0 to 1\n",
            "Czech Republic has decreased from 5 to 4\n",
            "Mexico has decreased from 30 to 21\n",
            "Turkey has decreased from 28 to 26\n",
            "Australia has decreased from 27 to 24\n",
            "France has decreased from 97 to 60\n",
            "Finland has decreased from 3 to 2\n",
            "China has decreased from 26 to 20\n",
            "Canada has decreased from 110 to 59\n",
            "Japan has decreased from 79 to 53\n",
            "Nigeria has decreased from 42 to 28\n",
            "Spain has decreased from 43 to 33\n",
            "Belgium has decreased from 21 to 9\n",
            "South Korea has decreased from 56 to 29\n",
            "Singapore has decreased from 4 to 3\n",
            "Italy has decreased from 28 to 16\n",
            "Romania has stayed the same from 5 to 5\n",
            "Argentina has decreased from 16 to 12\n",
            "Venezuela has increased from 0 to 1\n",
            "Hong Kong has stayed the same from 6 to 6\n",
            "Russia has decreased from 5 to 4\n",
            " has increased from 0 to 2\n",
            "Ireland has decreased from 11 to 5\n",
            "Nepal has increased from 0 to 1\n",
            "New Zealand has decreased from 7 to 6\n",
            "Brazil has decreased from 27 to 11\n",
            "Greece has decreased from 2 to 1\n",
            "Jordan has decreased from 2 to 1\n",
            "Colombia has decreased from 10 to 9\n",
            "Switzerland has stayed the same from 3 to 3\n",
            "Israel has increased from 2 to 5\n",
            "Taiwan has decreased from 12 to 9\n",
            "Bulgaria has increased from 1 to 2\n",
            "Algeria has decreased from 2 to 1\n",
            "Poland has decreased from 10 to 6\n",
            "Saudi Arabia has decreased from 9 to 2\n",
            "Thailand has increased from 8 to 9\n",
            "Indonesia has decreased from 28 to 13\n",
            "Egypt has decreased from 52 to 7\n",
            "Denmark has decreased from 9 to 5\n",
            "Kuwait has decreased from 5 to 1\n",
            "Netherlands has decreased from 11 to 5\n",
            "Malaysia has decreased from 6 to 1\n",
            "Vietnam has increased from 1 to 2\n",
            "Hungary has increased from 2 to 3\n",
            "Sweden has stayed the same from 4 to 4\n",
            "Lebanon has decreased from 18 to 6\n",
            "Syria has increased from 0 to 2\n",
            "Philippines has decreased from 32 to 5\n",
            "Iceland has decreased from 4 to 1\n",
            "United Arab Emirates has decreased from 14 to 4\n",
            "Norway has decreased from 8 to 3\n",
            "Qatar has increased from 0 to 3\n",
            "Mauritius has increased from 0 to 1\n",
            "Austria has decreased from 3 to 1\n",
            "Cameroon has increased from 0 to 1\n",
            "Palestine has increased from 0 to 1\n",
            "Uruguay has decreased from 3 to 2\n",
            "United Kingdom, has increased from 0 to 1\n",
            "Kenya has decreased from 4 to 1\n",
            "Chile has decreased from 5 to 2\n",
            "Luxembourg has decreased from 4 to 1\n",
            "Cambodia has increased from 0 to 1\n",
            "Bangladesh has increased from 0 to 1\n",
            "Portugal has increased from 0 to 2\n",
            "Cayman Islands has increased from 0 to 1\n",
            "Senegal has decreased from 1 to 0\n",
            "Serbia has decreased from 2 to 0\n",
            "Malta has decreased from 3 to 0\n",
            "Namibia has decreased from 1 to 0\n",
            "Angola has decreased from 1 to 0\n",
            "Peru has decreased from 1 to 0\n",
            "Mozambique has decreased from 1 to 0\n",
            "Cambodia, has decreased from 1 to 0\n",
            "Belarus has decreased from 1 to 0\n",
            "Zimbabwe has decreased from 1 to 0\n",
            "Puerto Rico has decreased from 1 to 0\n",
            "Pakistan has decreased from 1 to 0\n",
            "Cyprus has decreased from 1 to 0\n",
            "West Germany has decreased from 1 to 0\n",
            "Bahamas has decreased from 1 to 0\n",
            "Botswana has decreased from 1 to 0\n",
            "Jamaica has decreased from 1 to 0\n",
            "East Germany has decreased from 1 to 0\n"
          ]
        }
      ]
    },
    {
      "cell_type": "code",
      "source": [
        "increase = 0\n",
        "decrease = 0\n",
        "for country in netflix_exp[\"country\"].unique():\n",
        "  year_counts = netflix_exp[netflix_exp[\"country\"] == country].value_counts(\"year_added\")\n",
        "  count2021 = year_counts.get(2021, 0)\n",
        "  count2020 = year_counts.get(2020, 0)\n",
        "  if count2021 > count2020:\n",
        "    increase += 1\n",
        "  elif count2021 < count2020:\n",
        "    decrease += 1\n",
        "  else:\n",
        "    pass\n",
        "print(f\"{increase} countries increased their content\")\n",
        "print(f\"{decrease} countries decreaded their conetent\")"
      ],
      "metadata": {
        "colab": {
          "base_uri": "https://localhost:8080/"
        },
        "id": "6U7KcfBel9sg",
        "outputId": "ac38c0fa-927c-46c4-d162-3b4c92409b70"
      },
      "execution_count": null,
      "outputs": [
        {
          "output_type": "stream",
          "name": "stdout",
          "text": [
            "20 countries increased their content\n",
            "67 countries decreaded their conetent\n"
          ]
        }
      ]
    },
    {
      "cell_type": "code",
      "source": [
        "netflix_exp[netflix_exp[\"country\"] == \"United States\"].groupby(\"year_added\").size().plot(kind=\"line\")\n",
        "plt.title(\"United States Number of Content Over Time\")\n",
        "plt.show()"
      ],
      "metadata": {
        "colab": {
          "base_uri": "https://localhost:8080/",
          "height": 472
        },
        "id": "hHWrvtweWOzn",
        "outputId": "24773a20-32f4-4991-eccb-b129f90cca59"
      },
      "execution_count": null,
      "outputs": [
        {
          "output_type": "display_data",
          "data": {
            "text/plain": [
              "<Figure size 640x480 with 1 Axes>"
            ],
            "image/png": "[encoded data removed]"
          },
          "metadata": {}
        }
      ]
    },
    {
      "cell_type": "code",
      "source": [
        "# When is the best time of the year to release contents?\n",
        "netflix[\"month_added\"] = netflix[\"date_added\"].dt.month\n",
        "netflix.groupby(\"month_added\").size().plot(kind=\"bar\", xlabel=\"Month\", ylim=(300, 900))\n",
        "plt.xlabel()\n",
        "plt.show()"
      ],
      "metadata": {
        "colab": {
          "base_uri": "https://localhost:8080/",
          "height": 472
        },
        "id": "WSZUSsMGnTGd",
        "outputId": "4e222b3f-8948-42cc-8787-aac73a08fc2e"
      },
      "execution_count": null,
      "outputs": [
        {
          "output_type": "display_data",
          "data": {
            "text/plain": [
              "<Figure size 640x480 with 1 Axes>"
            ],
            "image/png": "[encoded data removed]"
          },
          "metadata": {}
        }
      ]
    },
    {
      "cell_type": "markdown",
      "source": [
        "### Conclusion"
      ],
      "metadata": {
        "id": "X7lSGRNMomQJ"
      }
    },
    {
      "cell_type": "markdown",
      "source": [
        "### Additional Missions\n",
        "1. Merge with IMDB data\n",
        "2. \"season count\" column for series\n"
      ],
      "metadata": {
        "id": "_YkmRqxR0Tpt"
      }
    }
  ]
}